{
  "cells": [
    {
      "cell_type": "markdown",
      "metadata": {
        "id": "A_GhdolV4q6u"
      },
      "source": [
        "## Introduction\n",
        "<details>\n",
        "<summary>Fashion Apparel Classification project overview (Click me)</summary>\n",
        "\n",
        "**Students**:\n",
        "- Youssef ELMOUMEN,     FVW745\n",
        "- Doha Djellit,     VFOAXE\n",
        "- Thabet Asmaa A. H. Naima,     ZWGD9E\n",
        "\n",
        "**Title:** Fashion Apparel Classification using the Fashion MNIST Dataset\n",
        "\n",
        "**Objective:** The primary goal is to utilize deep learning techniques to train a Convolutional Neural Network (CNN) that accurately classifies different types of apparel from the Fashion MNIST dataset.\n",
        "\n",
        "**Background:**\n",
        "- The Fashion MNIST dataset by Zalando Research contains 70,000 grayscale images of 10 fashion categories, each of size 28x28 pixels. It serves as an advanced benchmark for machine learning algorithms.\n",
        "- Automated classification is essential for inventory management, trend analysis, and enhancing the customer shopping experience, especially with the dynamic nature of fashion trends.\n",
        "\n",
        "**Tasks:**\n",
        "\n",
        "1. **Data Loading:**\n",
        "   - Load the complete Fashion MNIST dataset into a Python environment for subsequent processing and model training.\n",
        "\n",
        "2. **Data Visualization & Exploration:**\n",
        "   - Visualize various apparel classes to understand category distribution and individual class image characteristics.\n",
        "\n",
        "3. **Data Preprocessing & Image Augmentation:**\n",
        "   - Perform normalization of image pixel values and encode categorical class labels.\n",
        "   - Augment the dataset to enhance model generalizability through techniques like rotation, translation, and flipping.\n",
        "\n",
        "4. **CNN Model Development:**\n",
        "   - Design a CNN architecture tailored for the classification task.\n",
        "   - Experiment with layers, activation functions, and hyperparameters to refine the model.\n",
        "\n",
        "5. **Model Training and Testing:**\n",
        "   - Train the CNN with the training set and validate its performance using the test set.\n",
        "   - Implement callbacks and checkpoints for efficient training.\n",
        "\n",
        "6. **Performance Evaluation:**\n",
        "   - Use metrics such as accuracy and loss to evaluate model performance.\n",
        "   - Create confusion matrices and classification reports to understand model behavior across all categories.\n",
        "\n",
        "7. **Result Visualization:**\n",
        "   - Plot accuracy and loss curves to visualize training history.\n",
        "   - Display correctly and incorrectly classified images to provide qualitative insights into model performance.\n",
        "\n",
        "**End Goal:**\n",
        "- Develop a robust CNN model that classifies fashion apparel with high accuracy.\n",
        "- Contribute insights to computer vision and fashion retail sectors by addressing real-world problems through technology.\n",
        "\n",
        "**Dataset Availability:**\n",
        "- The dataset is available on Kaggle: [Fashion MNIST Dataset](https://www.kaggle.com/datasets/zalando-research/fashionmnist)\n",
        "- Source repository on GitHub: [Fashion MNIST](https://github.com/zalandoresearch/fashion-mnist)\n",
        "\n",
        "\n",
        "**Labels**<br>\n",
        "Each training and test example is assigned to one of the following labels:\n",
        "- 0 T-shirt/top\n",
        "- 1 Trouser\n",
        "- 2 Pullover\n",
        "- 3 Dress\n",
        "- 4 Coat\n",
        "- 5 Sandal\n",
        "- 6 Shirt\n",
        "- 7 Sneaker\n",
        "- 8 Bag\n",
        "- 9 Ankle boot\n",
        "</details>\n"
      ]
    },
    {
      "cell_type": "code",
      "execution_count": null,
      "metadata": {
        "id": "FlNKVLZSUCUT"
      },
      "outputs": [],
      "source": [
        "import json\n",
        "import zipfile\n",
        "import os\n",
        "data_dir = os.path.expanduser('~') + '/data'\n",
        "data_set='zalando-research/fashionmnist'\n",
        "\n",
        "# YOU HAVE TO REFRESH THE DIRECTORY TO SEE THE DATA\n",
        "def download_kaggle_data_set(dataset_name):\n",
        "    !rm -rf sample_data\n",
        "    !pip3 install kaggle  --break-system-packages > /dev/null\n",
        "    kaggle_json={\"username\":\"youssefelmoumen\",\"key\":\"9e38b743dc216e501da2cdc7e2f080ce\"}\n",
        "    !rm -r ~/.kaggle\n",
        "    !mkdir ~/.kaggle\n",
        "    user_dir = os.path.expanduser('~')\n",
        "    print(user_dir)\n",
        "    with open(user_dir + '/.kaggle/kaggle.json', 'w') as file:\n",
        "        json.dump(kaggle_json, file)\n",
        "\n",
        "    !chmod 600 ~/.kaggle/kaggle.json\n",
        "    !kaggle datasets download -d $dataset_name\n",
        "    !rm -r data\n",
        "    !mkdir data\n",
        "    with zipfile.ZipFile('fashionmnist.zip', 'r') as zip_ref:\n",
        "        zip_ref.extractall('data')\n",
        "    !rm fashionmnist.zip\n",
        "\n",
        "\n"
      ]
    },
    {
      "cell_type": "code",
      "execution_count": null,
      "metadata": {
        "colab": {
          "base_uri": "https://localhost:8080/"
        },
        "id": "1VOQ8PAJ5x9r",
        "outputId": "58bf3147-55a7-41bc-b475-080708e0b24d"
      },
      "outputs": [
        {
          "name": "stdout",
          "output_type": "stream",
          "text": [
            "rm: cannot remove '/root/.kaggle': No such file or directory\n",
            "/root\n",
            "Downloading fashionmnist.zip to /content\n",
            " 99% 68.0M/68.8M [00:00<00:00, 162MB/s]\n",
            "100% 68.8M/68.8M [00:00<00:00, 146MB/s]\n",
            "rm: cannot remove 'data': No such file or directory\n"
          ]
        }
      ],
      "source": [
        "#Download the data\n",
        "download_kaggle_data_set(data_set)"
      ]
    },
    {
      "cell_type": "markdown",
      "metadata": {
        "id": "T5juvv-fEfF1"
      },
      "source": [
        "### Data Loading"
      ]
    },
    {
      "cell_type": "code",
      "execution_count": 1,
      "metadata": {
        "colab": {
          "base_uri": "https://localhost:8080/"
        },
        "id": "-hhO7TODEhOe",
        "outputId": "a7c0858f-44ac-49fd-80e4-f48d32204f7f"
      },
      "outputs": [
        {
          "name": "stdout",
          "output_type": "stream",
          "text": [
            "<class 'pandas.core.frame.DataFrame'>\n",
            "RangeIndex: 60000 entries, 0 to 59999\n",
            "Columns: 785 entries, label to pixel784\n",
            "dtypes: int64(785)\n",
            "memory usage: 359.3 MB\n",
            "              label        pixel1        pixel2        pixel3        pixel4  \\\n",
            "count  10000.000000  10000.000000  10000.000000  10000.000000  10000.000000   \n",
            "mean       4.500000      0.000400      0.010300      0.052100      0.077000   \n",
            "std        2.872425      0.024493      0.525187      2.494315      2.208882   \n",
            "min        0.000000      0.000000      0.000000      0.000000      0.000000   \n",
            "25%        2.000000      0.000000      0.000000      0.000000      0.000000   \n",
            "50%        4.500000      0.000000      0.000000      0.000000      0.000000   \n",
            "75%        7.000000      0.000000      0.000000      0.000000      0.000000   \n",
            "max        9.000000      2.000000     45.000000    218.000000    185.000000   \n",
            "\n",
            "             pixel5        pixel6        pixel7        pixel8        pixel9  \\\n",
            "count  10000.000000  10000.000000  10000.000000  10000.000000  10000.000000   \n",
            "mean       0.208600      0.349200      0.826700      2.321200      5.457800   \n",
            "std        4.669183      5.657849      8.591731     15.031508     23.359019   \n",
            "min        0.000000      0.000000      0.000000      0.000000      0.000000   \n",
            "25%        0.000000      0.000000      0.000000      0.000000      0.000000   \n",
            "50%        0.000000      0.000000      0.000000      0.000000      0.000000   \n",
            "75%        0.000000      0.000000      0.000000      0.000000      0.000000   \n",
            "max      227.000000    223.000000    247.000000    218.000000    244.000000   \n",
            "\n",
            "       ...      pixel775      pixel776      pixel777      pixel778  \\\n",
            "count  ...  10000.000000  10000.000000  10000.000000  10000.000000   \n",
            "mean   ...     34.320800     23.071900     16.432000     17.870600   \n",
            "std    ...     57.888679     49.049749     42.159665     44.140552   \n",
            "min    ...      0.000000      0.000000      0.000000      0.000000   \n",
            "25%    ...      0.000000      0.000000      0.000000      0.000000   \n",
            "50%    ...      0.000000      0.000000      0.000000      0.000000   \n",
            "75%    ...     55.000000      6.000000      0.000000      0.000000   \n",
            "max    ...    254.000000    252.000000    255.000000    255.000000   \n",
            "\n",
            "           pixel779      pixel780      pixel781      pixel782      pixel783  \\\n",
            "count  10000.000000  10000.000000  10000.000000  10000.000000  10000.000000   \n",
            "mean      22.860000     17.790200      8.353500      2.541600      0.629500   \n",
            "std       51.706601     45.128107     28.765769     16.417363      7.462533   \n",
            "min        0.000000      0.000000      0.000000      0.000000      0.000000   \n",
            "25%        0.000000      0.000000      0.000000      0.000000      0.000000   \n",
            "50%        0.000000      0.000000      0.000000      0.000000      0.000000   \n",
            "75%        1.000000      0.000000      0.000000      0.000000      0.000000   \n",
            "max      255.000000    255.000000    240.000000    225.000000    205.000000   \n",
            "\n",
            "          pixel784  \n",
            "count  10000.00000  \n",
            "mean       0.06560  \n",
            "std        1.93403  \n",
            "min        0.00000  \n",
            "25%        0.00000  \n",
            "50%        0.00000  \n",
            "75%        0.00000  \n",
            "max      107.00000  \n",
            "\n",
            "[8 rows x 785 columns]\n",
            "label\n",
            "0    1000\n",
            "1    1000\n",
            "2    1000\n",
            "3    1000\n",
            "8    1000\n",
            "6    1000\n",
            "5    1000\n",
            "4    1000\n",
            "7    1000\n",
            "9    1000\n",
            "Name: count, dtype: int64\n",
            "<class 'pandas.core.frame.DataFrame'>\n",
            "RangeIndex: 10000 entries, 0 to 9999\n",
            "Columns: 785 entries, label to pixel784\n",
            "dtypes: int64(785)\n",
            "memory usage: 59.9 MB\n",
            "None\n"
          ]
        }
      ],
      "source": [
        "test_data_file= 'D:\\\\elte_res\\\\OneDrive - Eotvos Lorand Tudomanyegyetem\\\\CSE\\\\ITDS\\\\My_Projects\\\\Fashion_MNIST_Image_Recognition\\\\fashion-mnist_test.csv'\n",
        "train_data_file='D:\\\\elte_res\\\\OneDrive - Eotvos Lorand Tudomanyegyetem\\\\CSE\\\\ITDS\\\\My_Projects\\\\Fashion_MNIST_Image_Recognition\\\\fashion-mnist_train.csv'\n",
        "labels =\"D:\\\\elte_res\\\\OneDrive - Eotvos Lorand Tudomanyegyetem\\\\CSE\\\\ITDS\\\\My_Projects\\\\Fashion_MNIST_Image_Recognition\\\\t10k-labels-idx1-ubyte\"\n",
        "\n",
        "import pandas as pd\n",
        "import numpy as np\n",
        "\n",
        "# Train data\n",
        "train_data = pd.read_csv(train_data_file)\n",
        "#print(f'The number of NaN values in train data is {train_data.isna().sum().sum()}') #Prints the number of NaN values\n",
        "train_data.head()\n",
        "train_data.shape\n",
        "train_data.describe()\n",
        "train_data['label'].value_counts()\n",
        "train_data.info()\n",
        "\n",
        "# Test data\n",
        "test_data = pd.read_csv(test_data_file)\n",
        "#print(f'The number of NaN values in test data is {test_data.isna().sum().sum()}')\n",
        "test_data.head()\n",
        "test_data.shape\n",
        "print(test_data.describe())\n",
        "print(test_data['label'].value_counts())\n",
        "print(test_data.info())\n",
        "\n"
      ]
    },
    {
      "cell_type": "code",
      "execution_count": 2,
      "metadata": {
        "colab": {
          "base_uri": "https://localhost:8080/",
          "height": 617
        },
        "id": "3FXdwJ7WElqN",
        "outputId": "55cad459-5e15-49fa-c071-2fc635fb6d4d"
      },
      "outputs": [
        {
          "data": {
            "image/png": "[encoded data removed]",
            "text/plain": [
              "<Figure size 2000x2000 with 25 Axes>"
            ]
          },
          "metadata": {},
          "output_type": "display_data"
        }
      ],
      "source": [
        "\n",
        "import matplotlib.pyplot as plt\n",
        "\n",
        "def show_image(image):\n",
        "\n",
        "    plt.imshow(image, cmap='gray')\n",
        "    plt.show()\n",
        "\n",
        "# def show_image_by_index(data, index):\n",
        "\n",
        "#     image = data.iloc[index, 1:].values\n",
        "#     image = image.reshape((28, 28))\n",
        "#     show_image(image)\n",
        "# #* images per row\n",
        "\n",
        "def show_images(data, indexes, labels=None, columns=5):\n",
        "\n",
        "    rows = len(indexes) // columns + 1\n",
        "    fig = plt.figure(figsize=(20, 20))\n",
        "\n",
        "    for i, index in enumerate(indexes):\n",
        "        image = data.iloc[index, 1:].values\n",
        "        image = image.reshape((28, 28))\n",
        "        ax = fig.add_subplot(rows, columns, i + 1)\n",
        "        ax.set_title(data.iloc[index, 0])\n",
        "        ax.axis('off')\n",
        "        ax.imshow(image, cmap='gray')\n",
        "\n",
        "    # Adjust the subplot parameters to give the specified margin\n",
        "    plt.subplots_adjust(left=0.16, right=0.80, top=0.84, bottom=0.16)\n",
        "\n",
        "    plt.show()\n",
        "\n",
        "\n",
        "show_images(train_data, range(0, 25))\n"
      ]
    },
    {
      "cell_type": "code",
      "execution_count": null,
      "metadata": {
        "colab": {
          "base_uri": "https://localhost:8080/"
        },
        "id": "gkl2HjNPxt8e",
        "outputId": "0eae9ea4-dad5-4721-b460-2a9c21424ea0"
      },
      "outputs": [
        {
          "name": "stdout",
          "output_type": "stream",
          "text": [
            "Accuracy: 0.8921\n"
          ]
        }
      ],
      "source": [
        "#NB: This will take time while running it\n",
        "\n",
        "from sklearn.svm import SVC\n",
        "from sklearn.metrics import accuracy_score\n",
        "import numpy as np\n",
        "\n",
        "# Load training data\n",
        "train_data = np.loadtxt('data/fashion-mnist_train.csv', delimiter=',',skiprows=1)\n",
        "X_train = train_data[:, 1:]\n",
        "y_train = train_data[:, 0]\n",
        "\n",
        "# Load testing data\n",
        "test_data = np.loadtxt('data/fashion-mnist_test.csv', delimiter=',',skiprows=1)\n",
        "X_test = test_data[:, 1:]\n",
        "y_test = test_data[:, 0]\n",
        "\n",
        "# Create an instance of the classifier (e.g., SVM)\n",
        "classifier = SVC()\n",
        "\n",
        "# Train the classifier using the training data\n",
        "classifier.fit(X_train, y_train)\n",
        "\n",
        "# Evaluate the classifier using the testing data\n",
        "y_pred = classifier.predict(X_test)\n",
        "\n",
        "# Calculate accuracy\n",
        "accuracy = accuracy_score(y_test, y_pred)\n",
        "print(\"Accuracy:\", accuracy)\n"
      ]
    },
    {
      "cell_type": "markdown",
      "metadata": {
        "id": "W9QoU5mhSDWF"
      },
      "source": [
        "## Training with CNN tensorflow"
      ]
    },
    {
      "cell_type": "code",
      "execution_count": null,
      "metadata": {
        "id": "HHgf89x7SHtP"
      },
      "outputs": [],
      "source": [
        "!pip3 install tensorflow > /dev/null"
      ]
    },
    {
      "cell_type": "code",
      "execution_count": 4,
      "metadata": {},
      "outputs": [
        {
          "name": "stdout",
          "output_type": "stream",
          "text": [
            "GPU is not available\n"
          ]
        }
      ],
      "source": [
        "import tensorflow as tf\n",
        "\n",
        "gpus = tf.config.list_physical_devices('GPU')\n",
        "\n",
        "if gpus:\n",
        "    print(\"GPU is available\")\n",
        "else:\n",
        "    print(\"GPU is not available\")\n",
        "\n"
      ]
    },
    {
      "cell_type": "code",
      "execution_count": 3,
      "metadata": {
        "colab": {
          "base_uri": "https://localhost:8080/"
        },
        "id": "J80SmW5aSW68",
        "outputId": "5acfb465-f82d-4f53-9e06-eb48b06a54e5"
      },
      "outputs": [
        {
          "name": "stdout",
          "output_type": "stream",
          "text": [
            "[2 9 6 ... 8 8 7]\n"
          ]
        }
      ],
      "source": [
        "import pandas as pd\n",
        "import numpy as np\n",
        "from tensorflow.keras.utils import to_categorical\n",
        "\n",
        "# Load datasets\n",
        "train_data = pd.read_csv(train_data_file)\n",
        "test_data = pd.read_csv(test_data_file)\n",
        "\n",
        "y_train = train_data['label'].values\n",
        "y_test = test_data['label'].values\n",
        "\n",
        "print(y_train)\n",
        "\n",
        "# Drop the label column to isolate the images\n",
        "X_train = train_data.drop(columns=['label']).values\n",
        "X_test = test_data.drop(columns=['label']).values\n",
        "\n",
        "# Reshape the data to fit the model input requirements\n",
        "X_train = X_train.reshape(-1, 28, 28, 1)  # -1 for automatic deduction of number of images\n",
        "X_test = X_test.reshape(-1, 28, 28, 1)\n",
        "\n",
        "# Normalize the pixel values from 0-255 to 0-1\n",
        "X_train = X_train / 255.0\n",
        "X_test = X_test / 255.0\n",
        "\n",
        "# Convert labels to one-hot encoding\n",
        "y_train = to_categorical(y_train, 10)\n",
        "y_test = to_categorical(y_test, 10)\n"
      ]
    },
    {
      "cell_type": "code",
      "execution_count": 4,
      "metadata": {
        "id": "s8M5bJVLT0E7"
      },
      "outputs": [
        {
          "name": "stderr",
          "output_type": "stream",
          "text": [
            "C:\\Users\\why_g\\AppData\\Local\\Packages\\PythonSoftwareFoundation.Python.3.11_qbz5n2kfra8p0\\LocalCache\\local-packages\\Python311\\site-packages\\keras\\src\\layers\\convolutional\\base_conv.py:99: UserWarning: Do not pass an `input_shape`/`input_dim` argument to a layer. When using Sequential models, prefer using an `Input(shape)` object as the first layer in the model instead.\n",
            "  super().__init__(\n"
          ]
        }
      ],
      "source": [
        "from tensorflow.keras.models import Sequential\n",
        "from tensorflow.keras.layers import Conv2D, MaxPooling2D, Flatten, Dense, Dropout\n",
        "\n",
        "model = Sequential([\n",
        "    Conv2D(32, (3, 3), activation='relu', input_shape=(28, 28, 1)),\n",
        "    MaxPooling2D(2, 2),\n",
        "    Conv2D(64, (3, 3), activation='relu'),\n",
        "    MaxPooling2D(2, 2),\n",
        "    Flatten(),\n",
        "    Dense(128, activation='relu'),\n",
        "    Dropout(0.5),\n",
        "    Dense(10, activation='softmax')\n",
        "])\n"
      ]
    },
    {
      "cell_type": "code",
      "execution_count": 5,
      "metadata": {
        "id": "eOrm0ZwoT4_0"
      },
      "outputs": [],
      "source": [
        "model.compile(optimizer='adam', loss='categorical_crossentropy', metrics=['accuracy'])\n"
      ]
    },
    {
      "cell_type": "code",
      "execution_count": 6,
      "metadata": {
        "colab": {
          "base_uri": "https://localhost:8080/"
        },
        "id": "pkwawA5YT9L_",
        "outputId": "292cd820-4afe-4f08-ac15-22ef9b827b18"
      },
      "outputs": [
        {
          "name": "stdout",
          "output_type": "stream",
          "text": [
            "\u001b[1m313/313\u001b[0m \u001b[32m━━━━━━━━━━━━━━━━━━━━\u001b[0m\u001b[37m\u001b[0m \u001b[1m2s\u001b[0m 3ms/step - accuracy: 0.0989 - loss: 2.3179\n",
            "Test accuracy: 0.09950000047683716 loss: 2.3177201747894287\n"
          ]
        }
      ],
      "source": [
        "test_loss, test_acc = model.evaluate(X_test, y_test)\n",
        "print(f'Test accuracy: {test_acc} loss: {test_loss}')"
      ]
    },
    {
      "cell_type": "code",
      "execution_count": 10,
      "metadata": {},
      "outputs": [
        {
          "name": "stderr",
          "output_type": "stream",
          "text": [
            "C:\\Users\\why_g\\AppData\\Local\\Packages\\PythonSoftwareFoundation.Python.3.11_qbz5n2kfra8p0\\LocalCache\\local-packages\\Python311\\site-packages\\keras\\src\\layers\\convolutional\\base_conv.py:99: UserWarning: Do not pass an `input_shape`/`input_dim` argument to a layer. When using Sequential models, prefer using an `Input(shape)` object as the first layer in the model instead.\n",
            "  super().__init__(\n"
          ]
        },
        {
          "name": "stdout",
          "output_type": "stream",
          "text": [
            "Epoch 1/20\n",
            "\u001b[1m   4/1875\u001b[0m \u001b[37m━━━━━━━━━━━━━━━━━━━━\u001b[0m \u001b[1m31s\u001b[0m 17ms/step - accuracy: 0.1029 - loss: 5.1705  "
          ]
        },
        {
          "name": "stderr",
          "output_type": "stream",
          "text": [
            "C:\\Users\\why_g\\AppData\\Local\\Packages\\PythonSoftwareFoundation.Python.3.11_qbz5n2kfra8p0\\LocalCache\\local-packages\\Python311\\site-packages\\keras\\src\\trainers\\data_adapters\\py_dataset_adapter.py:120: UserWarning: Your `PyDataset` class should call `super().__init__(**kwargs)` in its constructor. `**kwargs` can include `workers`, `use_multiprocessing`, `max_queue_size`. Do not pass these arguments to `fit()`, as they will be ignored.\n",
            "  self._warn_if_super_not_called()\n"
          ]
        },
        {
          "name": "stdout",
          "output_type": "stream",
          "text": [
            "\u001b[1m1875/1875\u001b[0m \u001b[32m━━━━━━━━━━━━━━━━━━━━\u001b[0m\u001b[37m\u001b[0m \u001b[1m0s\u001b[0m 16ms/step - accuracy: 0.6545 - loss: 1.5643\n",
            "Epoch 1: val_loss improved from inf to 0.66101, saving model to D:\\elte_res\\OneDrive - Eotvos Lorand Tudomanyegyetem\\CSE\\ITDS\\My_Projects\\Fashion_MNIST_Image_Recognition\\checkpoint.weights.h5\n",
            "\u001b[1m1875/1875\u001b[0m \u001b[32m━━━━━━━━━━━━━━━━━━━━\u001b[0m\u001b[37m\u001b[0m \u001b[1m36s\u001b[0m 17ms/step - accuracy: 0.6546 - loss: 1.5640 - val_accuracy: 0.7742 - val_loss: 0.6610\n",
            "Epoch 2/20\n",
            "\u001b[1m1874/1875\u001b[0m \u001b[32m━━━━━━━━━━━━━━━━━━━\u001b[0m\u001b[37m━\u001b[0m \u001b[1m0s\u001b[0m 16ms/step - accuracy: 0.7879 - loss: 0.6511\n",
            "Epoch 2: val_loss improved from 0.66101 to 0.50521, saving model to D:\\elte_res\\OneDrive - Eotvos Lorand Tudomanyegyetem\\CSE\\ITDS\\My_Projects\\Fashion_MNIST_Image_Recognition\\checkpoint.weights.h5\n",
            "\u001b[1m1875/1875\u001b[0m \u001b[32m━━━━━━━━━━━━━━━━━━━━\u001b[0m\u001b[37m\u001b[0m \u001b[1m31s\u001b[0m 17ms/step - accuracy: 0.7879 - loss: 0.6511 - val_accuracy: 0.8339 - val_loss: 0.5052\n",
            "Epoch 3/20\n",
            "\u001b[1m1872/1875\u001b[0m \u001b[32m━━━━━━━━━━━━━━━━━━━\u001b[0m\u001b[37m━\u001b[0m \u001b[1m0s\u001b[0m 17ms/step - accuracy: 0.8058 - loss: 0.5975\n",
            "Epoch 3: val_loss improved from 0.50521 to 0.45330, saving model to D:\\elte_res\\OneDrive - Eotvos Lorand Tudomanyegyetem\\CSE\\ITDS\\My_Projects\\Fashion_MNIST_Image_Recognition\\checkpoint.weights.h5\n",
            "\u001b[1m1875/1875\u001b[0m \u001b[32m━━━━━━━━━━━━━━━━━━━━\u001b[0m\u001b[37m\u001b[0m \u001b[1m33s\u001b[0m 17ms/step - accuracy: 0.8058 - loss: 0.5975 - val_accuracy: 0.8547 - val_loss: 0.4533\n",
            "Epoch 4/20\n",
            "\u001b[1m1872/1875\u001b[0m \u001b[32m━━━━━━━━━━━━━━━━━━━\u001b[0m\u001b[37m━\u001b[0m \u001b[1m0s\u001b[0m 17ms/step - accuracy: 0.8175 - loss: 0.5671\n",
            "Epoch 4: val_loss did not improve from 0.45330\n",
            "\u001b[1m1875/1875\u001b[0m \u001b[32m━━━━━━━━━━━━━━━━━━━━\u001b[0m\u001b[37m\u001b[0m \u001b[1m33s\u001b[0m 17ms/step - accuracy: 0.8175 - loss: 0.5671 - val_accuracy: 0.8078 - val_loss: 0.5904\n",
            "Epoch 5/20\n",
            "\u001b[1m1872/1875\u001b[0m \u001b[32m━━━━━━━━━━━━━━━━━━━\u001b[0m\u001b[37m━\u001b[0m \u001b[1m0s\u001b[0m 18ms/step - accuracy: 0.8267 - loss: 0.5455\n",
            "Epoch 5: val_loss did not improve from 0.45330\n",
            "\u001b[1m1875/1875\u001b[0m \u001b[32m━━━━━━━━━━━━━━━━━━━━\u001b[0m\u001b[37m\u001b[0m \u001b[1m34s\u001b[0m 18ms/step - accuracy: 0.8267 - loss: 0.5455 - val_accuracy: 0.8484 - val_loss: 0.4674\n",
            "Epoch 6/20\n",
            "\u001b[1m1873/1875\u001b[0m \u001b[32m━━━━━━━━━━━━━━━━━━━\u001b[0m\u001b[37m━\u001b[0m \u001b[1m0s\u001b[0m 16ms/step - accuracy: 0.8296 - loss: 0.5404\n",
            "Epoch 6: val_loss improved from 0.45330 to 0.43742, saving model to D:\\elte_res\\OneDrive - Eotvos Lorand Tudomanyegyetem\\CSE\\ITDS\\My_Projects\\Fashion_MNIST_Image_Recognition\\checkpoint.weights.h5\n",
            "\u001b[1m1875/1875\u001b[0m \u001b[32m━━━━━━━━━━━━━━━━━━━━\u001b[0m\u001b[37m\u001b[0m \u001b[1m31s\u001b[0m 16ms/step - accuracy: 0.8296 - loss: 0.5404 - val_accuracy: 0.8598 - val_loss: 0.4374\n",
            "Epoch 7/20\n",
            "\u001b[1m1873/1875\u001b[0m \u001b[32m━━━━━━━━━━━━━━━━━━━\u001b[0m\u001b[37m━\u001b[0m \u001b[1m0s\u001b[0m 16ms/step - accuracy: 0.8322 - loss: 0.5231\n",
            "Epoch 7: val_loss did not improve from 0.43742\n",
            "\u001b[1m1875/1875\u001b[0m \u001b[32m━━━━━━━━━━━━━━━━━━━━\u001b[0m\u001b[37m\u001b[0m \u001b[1m31s\u001b[0m 17ms/step - accuracy: 0.8322 - loss: 0.5231 - val_accuracy: 0.8351 - val_loss: 0.5118\n",
            "Epoch 8/20\n",
            "\u001b[1m1872/1875\u001b[0m \u001b[32m━━━━━━━━━━━━━━━━━━━\u001b[0m\u001b[37m━\u001b[0m \u001b[1m0s\u001b[0m 17ms/step - accuracy: 0.8351 - loss: 0.5173\n",
            "Epoch 8: val_loss did not improve from 0.43742\n",
            "\u001b[1m1875/1875\u001b[0m \u001b[32m━━━━━━━━━━━━━━━━━━━━\u001b[0m\u001b[37m\u001b[0m \u001b[1m34s\u001b[0m 18ms/step - accuracy: 0.8352 - loss: 0.5173 - val_accuracy: 0.8440 - val_loss: 0.4575\n",
            "Epoch 9/20\n",
            "\u001b[1m1874/1875\u001b[0m \u001b[32m━━━━━━━━━━━━━━━━━━━\u001b[0m\u001b[37m━\u001b[0m \u001b[1m0s\u001b[0m 17ms/step - accuracy: 0.8407 - loss: 0.5012\n",
            "Epoch 9: val_loss did not improve from 0.43742\n",
            "\u001b[1m1875/1875\u001b[0m \u001b[32m━━━━━━━━━━━━━━━━━━━━\u001b[0m\u001b[37m\u001b[0m \u001b[1m32s\u001b[0m 17ms/step - accuracy: 0.8407 - loss: 0.5012 - val_accuracy: 0.7883 - val_loss: 0.5946\n",
            "Epoch 10/20\n",
            "\u001b[1m1874/1875\u001b[0m \u001b[32m━━━━━━━━━━━━━━━━━━━\u001b[0m\u001b[37m━\u001b[0m \u001b[1m0s\u001b[0m 16ms/step - accuracy: 0.8419 - loss: 0.5005\n",
            "Epoch 10: val_loss did not improve from 0.43742\n",
            "\u001b[1m1875/1875\u001b[0m \u001b[32m━━━━━━━━━━━━━━━━━━━━\u001b[0m\u001b[37m\u001b[0m \u001b[1m31s\u001b[0m 17ms/step - accuracy: 0.8419 - loss: 0.5005 - val_accuracy: 0.8464 - val_loss: 0.4706\n",
            "Epoch 11/20\n",
            "\u001b[1m1874/1875\u001b[0m \u001b[32m━━━━━━━━━━━━━━━━━━━\u001b[0m\u001b[37m━\u001b[0m \u001b[1m0s\u001b[0m 25ms/step - accuracy: 0.8441 - loss: 0.4902\n",
            "Epoch 11: val_loss improved from 0.43742 to 0.40559, saving model to D:\\elte_res\\OneDrive - Eotvos Lorand Tudomanyegyetem\\CSE\\ITDS\\My_Projects\\Fashion_MNIST_Image_Recognition\\checkpoint.weights.h5\n",
            "\u001b[1m1875/1875\u001b[0m \u001b[32m━━━━━━━━━━━━━━━━━━━━\u001b[0m\u001b[37m\u001b[0m \u001b[1m51s\u001b[0m 27ms/step - accuracy: 0.8441 - loss: 0.4902 - val_accuracy: 0.8700 - val_loss: 0.4056\n",
            "Epoch 12/20\n",
            "\u001b[1m1873/1875\u001b[0m \u001b[32m━━━━━━━━━━━━━━━━━━━\u001b[0m\u001b[37m━\u001b[0m \u001b[1m0s\u001b[0m 22ms/step - accuracy: 0.8499 - loss: 0.4732\n",
            "Epoch 12: val_loss did not improve from 0.40559\n",
            "\u001b[1m1875/1875\u001b[0m \u001b[32m━━━━━━━━━━━━━━━━━━━━\u001b[0m\u001b[37m\u001b[0m \u001b[1m43s\u001b[0m 23ms/step - accuracy: 0.8499 - loss: 0.4732 - val_accuracy: 0.8357 - val_loss: 0.4789\n",
            "Epoch 13/20\n",
            "\u001b[1m1874/1875\u001b[0m \u001b[32m━━━━━━━━━━━━━━━━━━━\u001b[0m\u001b[37m━\u001b[0m \u001b[1m0s\u001b[0m 17ms/step - accuracy: 0.8493 - loss: 0.4808\n",
            "Epoch 13: val_loss did not improve from 0.40559\n",
            "\u001b[1m1875/1875\u001b[0m \u001b[32m━━━━━━━━━━━━━━━━━━━━\u001b[0m\u001b[37m\u001b[0m \u001b[1m33s\u001b[0m 18ms/step - accuracy: 0.8493 - loss: 0.4808 - val_accuracy: 0.8470 - val_loss: 0.4662\n",
            "Epoch 14/20\n",
            "\u001b[1m1872/1875\u001b[0m \u001b[32m━━━━━━━━━━━━━━━━━━━\u001b[0m\u001b[37m━\u001b[0m \u001b[1m0s\u001b[0m 17ms/step - accuracy: 0.8530 - loss: 0.4683\n",
            "Epoch 14: val_loss improved from 0.40559 to 0.39644, saving model to D:\\elte_res\\OneDrive - Eotvos Lorand Tudomanyegyetem\\CSE\\ITDS\\My_Projects\\Fashion_MNIST_Image_Recognition\\checkpoint.weights.h5\n",
            "\u001b[1m1875/1875\u001b[0m \u001b[32m━━━━━━━━━━━━━━━━━━━━\u001b[0m\u001b[37m\u001b[0m \u001b[1m33s\u001b[0m 18ms/step - accuracy: 0.8530 - loss: 0.4683 - val_accuracy: 0.8730 - val_loss: 0.3964\n",
            "Epoch 15/20\n",
            "\u001b[1m1872/1875\u001b[0m \u001b[32m━━━━━━━━━━━━━━━━━━━\u001b[0m\u001b[37m━\u001b[0m \u001b[1m0s\u001b[0m 18ms/step - accuracy: 0.8525 - loss: 0.4712\n",
            "Epoch 15: val_loss did not improve from 0.39644\n",
            "\u001b[1m1875/1875\u001b[0m \u001b[32m━━━━━━━━━━━━━━━━━━━━\u001b[0m\u001b[37m\u001b[0m \u001b[1m35s\u001b[0m 19ms/step - accuracy: 0.8525 - loss: 0.4713 - val_accuracy: 0.8659 - val_loss: 0.4143\n",
            "Epoch 16/20\n",
            "\u001b[1m1873/1875\u001b[0m \u001b[32m━━━━━━━━━━━━━━━━━━━\u001b[0m\u001b[37m━\u001b[0m \u001b[1m0s\u001b[0m 30ms/step - accuracy: 0.8554 - loss: 0.4627\n",
            "Epoch 16: val_loss did not improve from 0.39644\n",
            "\u001b[1m1875/1875\u001b[0m \u001b[32m━━━━━━━━━━━━━━━━━━━━\u001b[0m\u001b[37m\u001b[0m \u001b[1m59s\u001b[0m 32ms/step - accuracy: 0.8554 - loss: 0.4627 - val_accuracy: 0.8710 - val_loss: 0.4058\n",
            "Epoch 17/20\n",
            "\u001b[1m1875/1875\u001b[0m \u001b[32m━━━━━━━━━━━━━━━━━━━━\u001b[0m\u001b[37m\u001b[0m \u001b[1m0s\u001b[0m 23ms/step - accuracy: 0.8558 - loss: 0.4578\n",
            "Epoch 17: val_loss did not improve from 0.39644\n",
            "\u001b[1m1875/1875\u001b[0m \u001b[32m━━━━━━━━━━━━━━━━━━━━\u001b[0m\u001b[37m\u001b[0m \u001b[1m45s\u001b[0m 24ms/step - accuracy: 0.8558 - loss: 0.4578 - val_accuracy: 0.8365 - val_loss: 0.4609\n",
            "Epoch 18/20\n",
            "\u001b[1m1873/1875\u001b[0m \u001b[32m━━━━━━━━━━━━━━━━━━━\u001b[0m\u001b[37m━\u001b[0m \u001b[1m0s\u001b[0m 19ms/step - accuracy: 0.8573 - loss: 0.4590\n",
            "Epoch 18: val_loss did not improve from 0.39644\n",
            "\u001b[1m1875/1875\u001b[0m \u001b[32m━━━━━━━━━━━━━━━━━━━━\u001b[0m\u001b[37m\u001b[0m \u001b[1m38s\u001b[0m 20ms/step - accuracy: 0.8573 - loss: 0.4590 - val_accuracy: 0.8319 - val_loss: 0.5103\n",
            "Epoch 19/20\n",
            "\u001b[1m1873/1875\u001b[0m \u001b[32m━━━━━━━━━━━━━━━━━━━\u001b[0m\u001b[37m━\u001b[0m \u001b[1m0s\u001b[0m 18ms/step - accuracy: 0.8546 - loss: 0.4672\n",
            "Epoch 19: val_loss did not improve from 0.39644\n",
            "\u001b[1m1875/1875\u001b[0m \u001b[32m━━━━━━━━━━━━━━━━━━━━\u001b[0m\u001b[37m\u001b[0m \u001b[1m36s\u001b[0m 19ms/step - accuracy: 0.8546 - loss: 0.4672 - val_accuracy: 0.8600 - val_loss: 0.4334\n",
            "\u001b[1m313/313\u001b[0m \u001b[32m━━━━━━━━━━━━━━━━━━━━\u001b[0m\u001b[37m\u001b[0m \u001b[1m2s\u001b[0m 6ms/step - accuracy: 0.8689 - loss: 0.3992\n",
            "Test accuracy: 0.873, loss: 0.396\n"
          ]
        }
      ],
      "source": [
        "import pandas as pd\n",
        "import numpy as np\n",
        "from tensorflow.keras.utils import to_categorical\n",
        "from tensorflow.keras.models import Sequential\n",
        "from tensorflow.keras.layers import Conv2D, MaxPooling2D, Flatten, Dense, Dropout, BatchNormalization\n",
        "from tensorflow.keras.regularizers import l2\n",
        "from tensorflow.keras.callbacks import ModelCheckpoint, EarlyStopping\n",
        "from tensorflow.keras.preprocessing.image import ImageDataGenerator\n",
        " \n",
        "# Assuming 'train_data_file' and 'test_data_file' are defined with the paths to your CSV files\n",
        "train_data_file = 'D:\\\\elte_res\\\\OneDrive - Eotvos Lorand Tudomanyegyetem\\\\CSE\\\\ITDS\\\\My_Projects\\\\Fashion_MNIST_Image_Recognition\\\\fashion-mnist_train.csv'\n",
        "test_data_file = 'D:\\\\elte_res\\\\OneDrive - Eotvos Lorand Tudomanyegyetem\\\\CSE\\\\ITDS\\\\My_Projects\\\\Fashion_MNIST_Image_Recognition\\\\fashion-mnist_test.csv'\n",
        " \n",
        "# Load datasets\n",
        "train_data = pd.read_csv(train_data_file)\n",
        "test_data = pd.read_csv(test_data_file)\n",
        " \n",
        "# Extract labels and convert them to numpy arrays\n",
        "y_train = train_data['label'].values\n",
        "y_test = test_data['label'].values\n",
        " \n",
        "# Drop the label column to isolate the image data\n",
        "X_train = train_data.drop(columns=['label']).values\n",
        "X_test = test_data.drop(columns=['label']).values\n",
        " \n",
        "# Reshape the data to fit the model input requirements (28x28 pixels, 1 channel)\n",
        "X_train = X_train.reshape(-1, 28, 28, 1)\n",
        "X_test = X_test.reshape(-1, 28, 28, 1)\n",
        " \n",
        "# Normalize the pixel values from 0-255 to 0-1\n",
        "X_train = X_train / 255.0\n",
        "X_test = X_test / 255.0\n",
        " \n",
        "# Convert labels to one-hot encoding\n",
        "y_train = to_categorical(y_train, 10)\n",
        "y_test = to_categorical(y_test, 10)\n",
        " \n",
        "# Data Augmentation\n",
        "datagen = ImageDataGenerator(\n",
        "    rotation_range=10,\n",
        "    width_shift_range=0.1,\n",
        "    height_shift_range=0.1,\n",
        "    zoom_range=0.1,\n",
        "    horizontal_flip=True\n",
        ")\n",
        " \n",
        "# Define the CNN model architecture\n",
        "model = Sequential([\n",
        "    Conv2D(32, (3, 3), activation='relu', input_shape=(28, 28, 1)),\n",
        "    BatchNormalization(),\n",
        "    MaxPooling2D(2, 2),\n",
        "    Conv2D(64, (3, 3), activation='relu'),\n",
        "    BatchNormalization(),\n",
        "    MaxPooling2D(2, 2),\n",
        "    Conv2D(128, (3, 3), activation='relu'),\n",
        "    BatchNormalization(),\n",
        "    MaxPooling2D(2, 2),\n",
        "    Flatten(),\n",
        "    Dense(128, activation='relu', kernel_regularizer=l2(0.01)),\n",
        "    Dropout(0.5),\n",
        "    Dense(10, activation='softmax')\n",
        "])\n",
        " \n",
        "model.compile(optimizer='adam', loss='categorical_crossentropy', metrics=['accuracy'])\n",
        " \n",
        "# Model Checkpoint and Early Stopping\n",
        "\n",
        "checkpoint_filepath = 'D:\\\\elte_res\\\\OneDrive - Eotvos Lorand Tudomanyegyetem\\\\CSE\\\\ITDS\\\\My_Projects\\\\Fashion_MNIST_Image_Recognition\\\\checkpoint.weights.h5'\n",
        "model_checkpoint_callback = ModelCheckpoint(\n",
        "    filepath=checkpoint_filepath,\n",
        "    save_weights_only=True,\n",
        "    monitor='val_loss',\n",
        "    mode='min',\n",
        "    save_best_only=True,\n",
        "    verbose=1)\n",
        "early_stopping = EarlyStopping(monitor='val_loss', patience=5, restore_best_weights=True)\n",
        " \n",
        "# Fit the model with the checkpoint and early stopping callback\n",
        "model.fit(datagen.flow(X_train, y_train, batch_size=32),\n",
        "          epochs=20,\n",
        "          validation_data=(X_test, y_test),\n",
        "          callbacks=[model_checkpoint_callback, early_stopping])\n",
        " \n",
        "# Load the best weights (if necessary)\n",
        "model.load_weights(checkpoint_filepath)\n",
        " \n",
        "# Evaluate the model on the test data\n",
        "test_loss, test_acc = model.evaluate(X_test, y_test)\n",
        "print(f'Test accuracy: {test_acc:.3f}, loss: {test_loss:.3f}')"
      ]
    }
  ],
  "metadata": {
    "colab": {
      "provenance": []
    },
    "kernelspec": {
      "display_name": "Python 3",
      "name": "python3"
    },
    "language_info": {
      "codemirror_mode": {
        "name": "ipython",
        "version": 3
      },
      "file_extension": ".py",
      "mimetype": "text/x-python",
      "name": "python",
      "nbconvert_exporter": "python",
      "pygments_lexer": "ipython3",
      "version": "3.11.9"
    }
  },
  "nbformat": 4,
  "nbformat_minor": 0
}
